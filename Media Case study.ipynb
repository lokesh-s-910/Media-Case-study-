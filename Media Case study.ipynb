{
 "cells": [
  {
   "cell_type": "markdown",
   "id": "f4f17648",
   "metadata": {},
   "source": [
    "### Media Company Case Study"
   ]
  },
  {
   "cell_type": "code",
   "execution_count": 161,
   "id": "303aeede",
   "metadata": {},
   "outputs": [],
   "source": [
    "import pandas as pd\n",
    "import numpy as np\n",
    "import matplotlib.pyplot as plt\n",
    "import seaborn as sns\n",
    "import warnings\n",
    "warnings.filterwarnings('ignore')"
   ]
  },
  {
   "cell_type": "code",
   "execution_count": 162,
   "id": "d8c4a3f7",
   "metadata": {},
   "outputs": [],
   "source": [
    "inp = pd.read_csv('mediacompany (1).csv')\n",
    "inp.drop('Unnamed: 7',axis=1,inplace=True)"
   ]
  },
  {
   "cell_type": "code",
   "execution_count": 163,
   "id": "d4cd9117",
   "metadata": {},
   "outputs": [
    {
     "data": {
      "text/html": [
       "<div>\n",
       "<style scoped>\n",
       "    .dataframe tbody tr th:only-of-type {\n",
       "        vertical-align: middle;\n",
       "    }\n",
       "\n",
       "    .dataframe tbody tr th {\n",
       "        vertical-align: top;\n",
       "    }\n",
       "\n",
       "    .dataframe thead th {\n",
       "        text-align: right;\n",
       "    }\n",
       "</style>\n",
       "<table border=\"1\" class=\"dataframe\">\n",
       "  <thead>\n",
       "    <tr style=\"text-align: right;\">\n",
       "      <th></th>\n",
       "      <th>Date</th>\n",
       "      <th>Views_show</th>\n",
       "      <th>Visitors</th>\n",
       "      <th>Views_platform</th>\n",
       "      <th>Ad_impression</th>\n",
       "      <th>Cricket_match_india</th>\n",
       "      <th>Character_A</th>\n",
       "    </tr>\n",
       "  </thead>\n",
       "  <tbody>\n",
       "    <tr>\n",
       "      <th>0</th>\n",
       "      <td>3/1/2017</td>\n",
       "      <td>183738</td>\n",
       "      <td>1260228</td>\n",
       "      <td>1706478</td>\n",
       "      <td>1060860448</td>\n",
       "      <td>0</td>\n",
       "      <td>0</td>\n",
       "    </tr>\n",
       "    <tr>\n",
       "      <th>1</th>\n",
       "      <td>3/2/2017</td>\n",
       "      <td>193763</td>\n",
       "      <td>1270561</td>\n",
       "      <td>1690727</td>\n",
       "      <td>1031846645</td>\n",
       "      <td>0</td>\n",
       "      <td>0</td>\n",
       "    </tr>\n",
       "    <tr>\n",
       "      <th>2</th>\n",
       "      <td>3/3/2017</td>\n",
       "      <td>210479</td>\n",
       "      <td>1248183</td>\n",
       "      <td>1726157</td>\n",
       "      <td>1010867575</td>\n",
       "      <td>0</td>\n",
       "      <td>0</td>\n",
       "    </tr>\n",
       "    <tr>\n",
       "      <th>3</th>\n",
       "      <td>3/4/2017</td>\n",
       "      <td>240061</td>\n",
       "      <td>1492913</td>\n",
       "      <td>1855353</td>\n",
       "      <td>1079194579</td>\n",
       "      <td>1</td>\n",
       "      <td>0</td>\n",
       "    </tr>\n",
       "    <tr>\n",
       "      <th>4</th>\n",
       "      <td>3/5/2017</td>\n",
       "      <td>446314</td>\n",
       "      <td>1594712</td>\n",
       "      <td>2041418</td>\n",
       "      <td>1357736987</td>\n",
       "      <td>0</td>\n",
       "      <td>0</td>\n",
       "    </tr>\n",
       "  </tbody>\n",
       "</table>\n",
       "</div>"
      ],
      "text/plain": [
       "       Date  Views_show  Visitors  Views_platform  Ad_impression  \\\n",
       "0  3/1/2017      183738   1260228         1706478     1060860448   \n",
       "1  3/2/2017      193763   1270561         1690727     1031846645   \n",
       "2  3/3/2017      210479   1248183         1726157     1010867575   \n",
       "3  3/4/2017      240061   1492913         1855353     1079194579   \n",
       "4  3/5/2017      446314   1594712         2041418     1357736987   \n",
       "\n",
       "   Cricket_match_india  Character_A  \n",
       "0                    0            0  \n",
       "1                    0            0  \n",
       "2                    0            0  \n",
       "3                    1            0  \n",
       "4                    0            0  "
      ]
     },
     "execution_count": 163,
     "metadata": {},
     "output_type": "execute_result"
    }
   ],
   "source": [
    "inp.head()"
   ]
  },
  {
   "cell_type": "code",
   "execution_count": 164,
   "id": "84f99419",
   "metadata": {},
   "outputs": [
    {
     "name": "stdout",
     "output_type": "stream",
     "text": [
      "<class 'pandas.core.frame.DataFrame'>\n",
      "RangeIndex: 80 entries, 0 to 79\n",
      "Data columns (total 7 columns):\n",
      " #   Column               Non-Null Count  Dtype \n",
      "---  ------               --------------  ----- \n",
      " 0   Date                 80 non-null     object\n",
      " 1   Views_show           80 non-null     int64 \n",
      " 2   Visitors             80 non-null     int64 \n",
      " 3   Views_platform       80 non-null     int64 \n",
      " 4   Ad_impression        80 non-null     int64 \n",
      " 5   Cricket_match_india  80 non-null     int64 \n",
      " 6   Character_A          80 non-null     int64 \n",
      "dtypes: int64(6), object(1)\n",
      "memory usage: 4.5+ KB\n"
     ]
    }
   ],
   "source": [
    "inp.info()"
   ]
  },
  {
   "cell_type": "code",
   "execution_count": 165,
   "id": "b1f9eda3",
   "metadata": {},
   "outputs": [
    {
     "data": {
      "text/html": [
       "<div>\n",
       "<style scoped>\n",
       "    .dataframe tbody tr th:only-of-type {\n",
       "        vertical-align: middle;\n",
       "    }\n",
       "\n",
       "    .dataframe tbody tr th {\n",
       "        vertical-align: top;\n",
       "    }\n",
       "\n",
       "    .dataframe thead th {\n",
       "        text-align: right;\n",
       "    }\n",
       "</style>\n",
       "<table border=\"1\" class=\"dataframe\">\n",
       "  <thead>\n",
       "    <tr style=\"text-align: right;\">\n",
       "      <th></th>\n",
       "      <th>Views_show</th>\n",
       "      <th>Visitors</th>\n",
       "      <th>Views_platform</th>\n",
       "      <th>Ad_impression</th>\n",
       "      <th>Cricket_match_india</th>\n",
       "      <th>Character_A</th>\n",
       "    </tr>\n",
       "  </thead>\n",
       "  <tbody>\n",
       "    <tr>\n",
       "      <th>count</th>\n",
       "      <td>80.000000</td>\n",
       "      <td>8.000000e+01</td>\n",
       "      <td>8.000000e+01</td>\n",
       "      <td>8.000000e+01</td>\n",
       "      <td>80.000000</td>\n",
       "      <td>80.000000</td>\n",
       "    </tr>\n",
       "    <tr>\n",
       "      <th>mean</th>\n",
       "      <td>289902.625000</td>\n",
       "      <td>1.699066e+06</td>\n",
       "      <td>2.222401e+06</td>\n",
       "      <td>1.442374e+09</td>\n",
       "      <td>0.100000</td>\n",
       "      <td>0.375000</td>\n",
       "    </tr>\n",
       "    <tr>\n",
       "      <th>std</th>\n",
       "      <td>154924.323585</td>\n",
       "      <td>2.311571e+05</td>\n",
       "      <td>2.913510e+05</td>\n",
       "      <td>2.983186e+08</td>\n",
       "      <td>0.301893</td>\n",
       "      <td>0.487177</td>\n",
       "    </tr>\n",
       "    <tr>\n",
       "      <th>min</th>\n",
       "      <td>102520.000000</td>\n",
       "      <td>1.248183e+06</td>\n",
       "      <td>1.690727e+06</td>\n",
       "      <td>1.010868e+09</td>\n",
       "      <td>0.000000</td>\n",
       "      <td>0.000000</td>\n",
       "    </tr>\n",
       "    <tr>\n",
       "      <th>25%</th>\n",
       "      <td>185353.250000</td>\n",
       "      <td>1.550766e+06</td>\n",
       "      <td>2.010816e+06</td>\n",
       "      <td>1.207911e+09</td>\n",
       "      <td>0.000000</td>\n",
       "      <td>0.000000</td>\n",
       "    </tr>\n",
       "    <tr>\n",
       "      <th>50%</th>\n",
       "      <td>235807.000000</td>\n",
       "      <td>1.698843e+06</td>\n",
       "      <td>2.226270e+06</td>\n",
       "      <td>1.385931e+09</td>\n",
       "      <td>0.000000</td>\n",
       "      <td>0.000000</td>\n",
       "    </tr>\n",
       "    <tr>\n",
       "      <th>75%</th>\n",
       "      <td>350079.000000</td>\n",
       "      <td>1.817895e+06</td>\n",
       "      <td>2.388837e+06</td>\n",
       "      <td>1.632416e+09</td>\n",
       "      <td>0.000000</td>\n",
       "      <td>1.000000</td>\n",
       "    </tr>\n",
       "    <tr>\n",
       "      <th>max</th>\n",
       "      <td>758631.000000</td>\n",
       "      <td>2.344650e+06</td>\n",
       "      <td>3.064422e+06</td>\n",
       "      <td>2.424203e+09</td>\n",
       "      <td>1.000000</td>\n",
       "      <td>1.000000</td>\n",
       "    </tr>\n",
       "  </tbody>\n",
       "</table>\n",
       "</div>"
      ],
      "text/plain": [
       "          Views_show      Visitors  Views_platform  Ad_impression  \\\n",
       "count      80.000000  8.000000e+01    8.000000e+01   8.000000e+01   \n",
       "mean   289902.625000  1.699066e+06    2.222401e+06   1.442374e+09   \n",
       "std    154924.323585  2.311571e+05    2.913510e+05   2.983186e+08   \n",
       "min    102520.000000  1.248183e+06    1.690727e+06   1.010868e+09   \n",
       "25%    185353.250000  1.550766e+06    2.010816e+06   1.207911e+09   \n",
       "50%    235807.000000  1.698843e+06    2.226270e+06   1.385931e+09   \n",
       "75%    350079.000000  1.817895e+06    2.388837e+06   1.632416e+09   \n",
       "max    758631.000000  2.344650e+06    3.064422e+06   2.424203e+09   \n",
       "\n",
       "       Cricket_match_india  Character_A  \n",
       "count            80.000000    80.000000  \n",
       "mean              0.100000     0.375000  \n",
       "std               0.301893     0.487177  \n",
       "min               0.000000     0.000000  \n",
       "25%               0.000000     0.000000  \n",
       "50%               0.000000     0.000000  \n",
       "75%               0.000000     1.000000  \n",
       "max               1.000000     1.000000  "
      ]
     },
     "execution_count": 165,
     "metadata": {},
     "output_type": "execute_result"
    }
   ],
   "source": [
    "inp.describe()"
   ]
  },
  {
   "cell_type": "code",
   "execution_count": 166,
   "id": "03cb6b27",
   "metadata": {},
   "outputs": [
    {
     "data": {
      "text/plain": [
       "Date                   0\n",
       "Views_show             0\n",
       "Visitors               0\n",
       "Views_platform         0\n",
       "Ad_impression          0\n",
       "Cricket_match_india    0\n",
       "Character_A            0\n",
       "dtype: int64"
      ]
     },
     "execution_count": 166,
     "metadata": {},
     "output_type": "execute_result"
    }
   ],
   "source": [
    "inp.isnull().sum()"
   ]
  },
  {
   "cell_type": "code",
   "execution_count": 167,
   "id": "b49e29ef",
   "metadata": {},
   "outputs": [
    {
     "data": {
      "text/plain": [
       "0    72\n",
       "1     8\n",
       "Name: Cricket_match_india, dtype: int64"
      ]
     },
     "execution_count": 167,
     "metadata": {},
     "output_type": "execute_result"
    }
   ],
   "source": [
    "inp['Cricket_match_india'].value_counts()"
   ]
  },
  {
   "cell_type": "code",
   "execution_count": 168,
   "id": "6a045f31",
   "metadata": {},
   "outputs": [
    {
     "data": {
      "text/plain": [
       "0    50\n",
       "1    30\n",
       "Name: Character_A, dtype: int64"
      ]
     },
     "execution_count": 168,
     "metadata": {},
     "output_type": "execute_result"
    }
   ],
   "source": [
    "inp['Character_A'].value_counts()"
   ]
  },
  {
   "cell_type": "code",
   "execution_count": 169,
   "id": "63ab78b1",
   "metadata": {},
   "outputs": [
    {
     "data": {
      "text/plain": [
       "<matplotlib.collections.PathCollection at 0x291c8a969d0>"
      ]
     },
     "execution_count": 169,
     "metadata": {},
     "output_type": "execute_result"
    },
    {
     "data": {
      "image/png": "[encoded data removed]",
      "text/plain": [
       "<Figure size 432x288 with 1 Axes>"
      ]
     },
     "metadata": {
      "needs_background": "light"
     },
     "output_type": "display_data"
    }
   ],
   "source": [
    "plt.scatter(y='Views_platform',x='Cricket_match_india',data=inp)"
   ]
  },
  {
   "cell_type": "code",
   "execution_count": 170,
   "id": "58a8384c",
   "metadata": {},
   "outputs": [
    {
     "data": {
      "text/plain": [
       "<matplotlib.collections.PathCollection at 0x291c8b04a00>"
      ]
     },
     "execution_count": 170,
     "metadata": {},
     "output_type": "execute_result"
    },
    {
     "data": {
      "image/png": "[encoded data removed]",
      "text/plain": [
       "<Figure size 432x288 with 1 Axes>"
      ]
     },
     "metadata": {
      "needs_background": "light"
     },
     "output_type": "display_data"
    }
   ],
   "source": [
    "plt.scatter(y='Views_platform',x='Character_A',data=inp)"
   ]
  },
  {
   "cell_type": "markdown",
   "id": "5ebceffc",
   "metadata": {},
   "source": [
    "### Convert Date column into pandas datetime"
   ]
  },
  {
   "cell_type": "code",
   "execution_count": 171,
   "id": "4f09563c",
   "metadata": {},
   "outputs": [],
   "source": [
    "inp['Date'] = pd.to_datetime(inp['Date'])"
   ]
  },
  {
   "cell_type": "code",
   "execution_count": 172,
   "id": "03d3a59b",
   "metadata": {},
   "outputs": [],
   "source": [
    "from datetime import date\n",
    "d0 = date(2017, 2, 28)\n",
    "d0_time = pd.Timestamp(d0)\n",
    "d1 = inp['Date']\n",
    "delta = d1 - d0_time\n",
    "inp['Day'] = delta"
   ]
  },
  {
   "cell_type": "code",
   "execution_count": 173,
   "id": "256f3713",
   "metadata": {},
   "outputs": [],
   "source": [
    "# clean data\n",
    "inp['Day'] = inp['Day'].astype('str')\n",
    "inp['Day'] = inp['Day'].apply(lambda x: x[0:2])\n",
    "inp['Day'] = inp['Day'].astype('int')"
   ]
  },
  {
   "cell_type": "markdown",
   "id": "eb51b78a",
   "metadata": {},
   "source": [
    "### EDA"
   ]
  },
  {
   "cell_type": "code",
   "execution_count": 174,
   "id": "d5c86c49",
   "metadata": {},
   "outputs": [
    {
     "data": {
      "image/png": "[encoded data removed]",
      "text/plain": [
       "<Figure size 720x432 with 1 Axes>"
      ]
     },
     "metadata": {
      "needs_background": "light"
     },
     "output_type": "display_data"
    }
   ],
   "source": [
    "plt.figure(figsize=(10,6))\n",
    "plt.plot(inp['Day'],inp['Views_show'],color='Red')\n",
    "plt.title('Day Vs Views_show',fontdict={'fontsize':15,'color':'red'})\n",
    "plt.xlabel('Day',fontdict={'fontsize':14})\n",
    "plt.ylabel('Views_show',fontdict={'fontsize':14})\n",
    "plt.show()"
   ]
  },
  {
   "cell_type": "code",
   "execution_count": 175,
   "id": "91153597",
   "metadata": {},
   "outputs": [
    {
     "data": {
      "image/png": "[encoded data removed]",
      "text/plain": [
       "<Figure size 720x432 with 1 Axes>"
      ]
     },
     "metadata": {
      "needs_background": "light"
     },
     "output_type": "display_data"
    }
   ],
   "source": [
    "plt.figure(figsize=[10,6])\n",
    "plt.scatter(inp['Day'],inp['Views_show'])\n",
    "plt.title('Day Vs Views_show',fontdict={'fontsize':15,'color':'red'})\n",
    "plt.xlabel('Day',fontdict={'fontsize':14})\n",
    "plt.ylabel('Views_show',fontdict={'fontsize':14})\n",
    "plt.show()"
   ]
  },
  {
   "cell_type": "code",
   "execution_count": 176,
   "id": "da122bc6",
   "metadata": {},
   "outputs": [
    {
     "data": {
      "image/png": "[encoded data removed]",
      "text/plain": [
       "<Figure size 720x432 with 1 Axes>"
      ]
     },
     "metadata": {
      "needs_background": "light"
     },
     "output_type": "display_data"
    }
   ],
   "source": [
    "plt.figure(figsize=(10,6))\n",
    "plt.plot(inp['Day'],inp['Ad_impression'],color='black')\n",
    "plt.title('Day Vs Ad_impression',fontdict={'fontsize':15,'color':'red'})\n",
    "plt.xlabel('Day',fontdict={'fontsize':14})\n",
    "plt.ylabel('Ad_impression',fontdict={'fontsize':14})\n",
    "plt.show()"
   ]
  },
  {
   "cell_type": "code",
   "execution_count": 177,
   "id": "6eb2d7a9",
   "metadata": {},
   "outputs": [
    {
     "data": {
      "image/png": "[encoded data removed]",
      "text/plain": [
       "<Figure size 432x288 with 3 Axes>"
      ]
     },
     "metadata": {
      "needs_background": "light"
     },
     "output_type": "display_data"
    }
   ],
   "source": [
    "fig = plt.figure()\n",
    "host = fig.add_subplot()\n",
    "\n",
    "part1 = host.twinx()\n",
    "part2 = host.twinx()\n",
    "\n",
    "host.set_xlabel('Day')\n",
    "host.set_ylabel('View_show')\n",
    "part1.set_ylabel('Ad_imperssion')\n",
    "\n",
    "p1, = host.plot(inp['Day'],inp['Views_show'], color='red',label='View_show')\n",
    "p2, = part1.plot(inp['Day'],inp['Ad_impression'],color='black',label='Ad_impression')\n",
    "\n",
    "lns = [p1 , p2]\n",
    "plt.legend(handles=lns, loc='best')\n",
    "\n",
    "\n",
    "part2.spines['right'].set_position(('outward', 60))      \n",
    "part2.xaxis.set_ticks([])\n",
    "\n",
    "plt.show()"
   ]
  },
  {
   "cell_type": "code",
   "execution_count": 178,
   "id": "52f76bc8",
   "metadata": {},
   "outputs": [
    {
     "data": {
      "text/html": [
       "<div>\n",
       "<style scoped>\n",
       "    .dataframe tbody tr th:only-of-type {\n",
       "        vertical-align: middle;\n",
       "    }\n",
       "\n",
       "    .dataframe tbody tr th {\n",
       "        vertical-align: top;\n",
       "    }\n",
       "\n",
       "    .dataframe thead th {\n",
       "        text-align: right;\n",
       "    }\n",
       "</style>\n",
       "<table border=\"1\" class=\"dataframe\">\n",
       "  <thead>\n",
       "    <tr style=\"text-align: right;\">\n",
       "      <th></th>\n",
       "      <th>Date</th>\n",
       "      <th>Views_show</th>\n",
       "      <th>Visitors</th>\n",
       "      <th>Views_platform</th>\n",
       "      <th>Ad_impression</th>\n",
       "      <th>Cricket_match_india</th>\n",
       "      <th>Character_A</th>\n",
       "      <th>Day</th>\n",
       "      <th>weekday</th>\n",
       "    </tr>\n",
       "  </thead>\n",
       "  <tbody>\n",
       "    <tr>\n",
       "      <th>0</th>\n",
       "      <td>2017-03-01</td>\n",
       "      <td>183738</td>\n",
       "      <td>1260228</td>\n",
       "      <td>1706478</td>\n",
       "      <td>1060860448</td>\n",
       "      <td>0</td>\n",
       "      <td>0</td>\n",
       "      <td>1</td>\n",
       "      <td>4</td>\n",
       "    </tr>\n",
       "    <tr>\n",
       "      <th>1</th>\n",
       "      <td>2017-03-02</td>\n",
       "      <td>193763</td>\n",
       "      <td>1270561</td>\n",
       "      <td>1690727</td>\n",
       "      <td>1031846645</td>\n",
       "      <td>0</td>\n",
       "      <td>0</td>\n",
       "      <td>2</td>\n",
       "      <td>5</td>\n",
       "    </tr>\n",
       "    <tr>\n",
       "      <th>2</th>\n",
       "      <td>2017-03-03</td>\n",
       "      <td>210479</td>\n",
       "      <td>1248183</td>\n",
       "      <td>1726157</td>\n",
       "      <td>1010867575</td>\n",
       "      <td>0</td>\n",
       "      <td>0</td>\n",
       "      <td>3</td>\n",
       "      <td>6</td>\n",
       "    </tr>\n",
       "    <tr>\n",
       "      <th>3</th>\n",
       "      <td>2017-03-04</td>\n",
       "      <td>240061</td>\n",
       "      <td>1492913</td>\n",
       "      <td>1855353</td>\n",
       "      <td>1079194579</td>\n",
       "      <td>1</td>\n",
       "      <td>0</td>\n",
       "      <td>4</td>\n",
       "      <td>7</td>\n",
       "    </tr>\n",
       "    <tr>\n",
       "      <th>4</th>\n",
       "      <td>2017-03-05</td>\n",
       "      <td>446314</td>\n",
       "      <td>1594712</td>\n",
       "      <td>2041418</td>\n",
       "      <td>1357736987</td>\n",
       "      <td>0</td>\n",
       "      <td>0</td>\n",
       "      <td>5</td>\n",
       "      <td>1</td>\n",
       "    </tr>\n",
       "  </tbody>\n",
       "</table>\n",
       "</div>"
      ],
      "text/plain": [
       "        Date  Views_show  Visitors  Views_platform  Ad_impression  \\\n",
       "0 2017-03-01      183738   1260228         1706478     1060860448   \n",
       "1 2017-03-02      193763   1270561         1690727     1031846645   \n",
       "2 2017-03-03      210479   1248183         1726157     1010867575   \n",
       "3 2017-03-04      240061   1492913         1855353     1079194579   \n",
       "4 2017-03-05      446314   1594712         2041418     1357736987   \n",
       "\n",
       "   Cricket_match_india  Character_A  Day  weekday  \n",
       "0                    0            0    1        4  \n",
       "1                    0            0    2        5  \n",
       "2                    0            0    3        6  \n",
       "3                    1            0    4        7  \n",
       "4                    0            0    5        1  "
      ]
     },
     "execution_count": 178,
     "metadata": {},
     "output_type": "execute_result"
    }
   ],
   "source": [
    "# making into derived variable\n",
    "# convert 0 into 7 which is sunday\n",
    "inp['weekday'] = (inp['Day']+3)%7\n",
    "inp['weekday'].replace(0,7,inplace=True)\n",
    "inp.head()"
   ]
  },
  {
   "cell_type": "markdown",
   "id": "47b014c5",
   "metadata": {},
   "source": [
    "### Creating Our 1st Model "
   ]
  },
  {
   "cell_type": "code",
   "execution_count": 179,
   "id": "cec25989",
   "metadata": {},
   "outputs": [],
   "source": [
    "X = inp[['Visitors','weekday']]\n",
    "y = inp['Views_show']"
   ]
  },
  {
   "cell_type": "code",
   "execution_count": 180,
   "id": "1f24a6bd",
   "metadata": {},
   "outputs": [
    {
     "data": {
      "text/plain": [
       "LinearRegression()"
      ]
     },
     "execution_count": 180,
     "metadata": {},
     "output_type": "execute_result"
    }
   ],
   "source": [
    "# import the library for model building\n",
    "import sklearn\n",
    "from sklearn.linear_model import LinearRegression\n",
    "\n",
    "#represent the linearRegression into lm\n",
    "lm = LinearRegression()\n",
    "\n",
    "# fit the model into training set\n",
    "lm.fit(X,y)"
   ]
  },
  {
   "cell_type": "code",
   "execution_count": 181,
   "id": "42148912",
   "metadata": {},
   "outputs": [
    {
     "name": "stdout",
     "output_type": "stream",
     "text": [
      "-----------------------------------------------------------------------------------\n",
      "const      -38615.112787\n",
      "Visitors        0.278681\n",
      "weekday    -35908.350137\n",
      "dtype: float64\n",
      "-----------------------------------------------------------------------------------\n",
      "\n",
      "\n",
      "                            OLS Regression Results                            \n",
      "==============================================================================\n",
      "Dep. Variable:             Views_show   R-squared:                       0.485\n",
      "Model:                            OLS   Adj. R-squared:                  0.472\n",
      "Method:                 Least Squares   F-statistic:                     36.26\n",
      "Date:                Wed, 23 Aug 2023   Prob (F-statistic):           8.01e-12\n",
      "Time:                        17:12:39   Log-Likelihood:                -1042.5\n",
      "No. Observations:                  80   AIC:                             2091.\n",
      "Df Residuals:                      77   BIC:                             2098.\n",
      "Df Model:                           2                                         \n",
      "Covariance Type:            nonrobust                                         \n",
      "==============================================================================\n",
      "                 coef    std err          t      P>|t|      [0.025      0.975]\n",
      "------------------------------------------------------------------------------\n",
      "const      -3.862e+04   1.07e+05     -0.360      0.720   -2.52e+05    1.75e+05\n",
      "Visitors       0.2787      0.057      4.911      0.000       0.166       0.392\n",
      "weekday    -3.591e+04   6591.205     -5.448      0.000    -4.9e+04   -2.28e+04\n",
      "==============================================================================\n",
      "Omnibus:                        2.684   Durbin-Watson:                   0.650\n",
      "Prob(Omnibus):                  0.261   Jarque-Bera (JB):                2.653\n",
      "Skew:                           0.423   Prob(JB):                        0.265\n",
      "Kurtosis:                       2.718   Cond. No.                     1.46e+07\n",
      "==============================================================================\n",
      "\n",
      "Notes:\n",
      "[1] Standard Errors assume that the covariance matrix of the errors is correctly specified.\n",
      "[2] The condition number is large, 1.46e+07. This might indicate that there are\n",
      "strong multicollinearity or other numerical problems.\n"
     ]
    }
   ],
   "source": [
    "import statsmodels.api as sm\n",
    "\n",
    "X_train = sm.add_constant(X)\n",
    "lr = sm.OLS(y,X_train).fit()\n",
    "print('-----------------------------------------------------------------------------------')\n",
    "print(lr.params)\n",
    "print('-----------------------------------------------------------------------------------\\n\\n')\n",
    "print(lr.summary())\n"
   ]
  },
  {
   "cell_type": "code",
   "execution_count": 182,
   "id": "b9f43f58",
   "metadata": {},
   "outputs": [],
   "source": [
    "# convert the weekends into 0 \n",
    "def cond(i):\n",
    "    if i%7==5 :\n",
    "        return 1\n",
    "    elif i%7==4:\n",
    "        return 1\n",
    "    else:\n",
    "        return 0\n",
    "    return i"
   ]
  },
  {
   "cell_type": "code",
   "execution_count": 183,
   "id": "873c28ed",
   "metadata": {},
   "outputs": [
    {
     "data": {
      "text/html": [
       "<div>\n",
       "<style scoped>\n",
       "    .dataframe tbody tr th:only-of-type {\n",
       "        vertical-align: middle;\n",
       "    }\n",
       "\n",
       "    .dataframe tbody tr th {\n",
       "        vertical-align: top;\n",
       "    }\n",
       "\n",
       "    .dataframe thead th {\n",
       "        text-align: right;\n",
       "    }\n",
       "</style>\n",
       "<table border=\"1\" class=\"dataframe\">\n",
       "  <thead>\n",
       "    <tr style=\"text-align: right;\">\n",
       "      <th></th>\n",
       "      <th>Date</th>\n",
       "      <th>Views_show</th>\n",
       "      <th>Visitors</th>\n",
       "      <th>Views_platform</th>\n",
       "      <th>Ad_impression</th>\n",
       "      <th>Cricket_match_india</th>\n",
       "      <th>Character_A</th>\n",
       "      <th>Day</th>\n",
       "      <th>weekday</th>\n",
       "      <th>weekends</th>\n",
       "    </tr>\n",
       "  </thead>\n",
       "  <tbody>\n",
       "    <tr>\n",
       "      <th>0</th>\n",
       "      <td>2017-03-01</td>\n",
       "      <td>183738</td>\n",
       "      <td>1260228</td>\n",
       "      <td>1706478</td>\n",
       "      <td>1060860448</td>\n",
       "      <td>0</td>\n",
       "      <td>0</td>\n",
       "      <td>1</td>\n",
       "      <td>4</td>\n",
       "      <td>0</td>\n",
       "    </tr>\n",
       "    <tr>\n",
       "      <th>1</th>\n",
       "      <td>2017-03-02</td>\n",
       "      <td>193763</td>\n",
       "      <td>1270561</td>\n",
       "      <td>1690727</td>\n",
       "      <td>1031846645</td>\n",
       "      <td>0</td>\n",
       "      <td>0</td>\n",
       "      <td>2</td>\n",
       "      <td>5</td>\n",
       "      <td>0</td>\n",
       "    </tr>\n",
       "    <tr>\n",
       "      <th>2</th>\n",
       "      <td>2017-03-03</td>\n",
       "      <td>210479</td>\n",
       "      <td>1248183</td>\n",
       "      <td>1726157</td>\n",
       "      <td>1010867575</td>\n",
       "      <td>0</td>\n",
       "      <td>0</td>\n",
       "      <td>3</td>\n",
       "      <td>6</td>\n",
       "      <td>0</td>\n",
       "    </tr>\n",
       "    <tr>\n",
       "      <th>3</th>\n",
       "      <td>2017-03-04</td>\n",
       "      <td>240061</td>\n",
       "      <td>1492913</td>\n",
       "      <td>1855353</td>\n",
       "      <td>1079194579</td>\n",
       "      <td>1</td>\n",
       "      <td>0</td>\n",
       "      <td>4</td>\n",
       "      <td>7</td>\n",
       "      <td>1</td>\n",
       "    </tr>\n",
       "    <tr>\n",
       "      <th>4</th>\n",
       "      <td>2017-03-05</td>\n",
       "      <td>446314</td>\n",
       "      <td>1594712</td>\n",
       "      <td>2041418</td>\n",
       "      <td>1357736987</td>\n",
       "      <td>0</td>\n",
       "      <td>0</td>\n",
       "      <td>5</td>\n",
       "      <td>1</td>\n",
       "      <td>1</td>\n",
       "    </tr>\n",
       "  </tbody>\n",
       "</table>\n",
       "</div>"
      ],
      "text/plain": [
       "        Date  Views_show  Visitors  Views_platform  Ad_impression  \\\n",
       "0 2017-03-01      183738   1260228         1706478     1060860448   \n",
       "1 2017-03-02      193763   1270561         1690727     1031846645   \n",
       "2 2017-03-03      210479   1248183         1726157     1010867575   \n",
       "3 2017-03-04      240061   1492913         1855353     1079194579   \n",
       "4 2017-03-05      446314   1594712         2041418     1357736987   \n",
       "\n",
       "   Cricket_match_india  Character_A  Day  weekday  weekends  \n",
       "0                    0            0    1        4         0  \n",
       "1                    0            0    2        5         0  \n",
       "2                    0            0    3        6         0  \n",
       "3                    1            0    4        7         1  \n",
       "4                    0            0    5        1         1  "
      ]
     },
     "execution_count": 183,
     "metadata": {},
     "output_type": "execute_result"
    }
   ],
   "source": [
    "inp['weekends'] = [cond(i) for i in inp['Day']]\n",
    "inp.head()"
   ]
  },
  {
   "cell_type": "markdown",
   "id": "51a804df",
   "metadata": {},
   "source": [
    "### Creating another model using visitors and weekends"
   ]
  },
  {
   "cell_type": "code",
   "execution_count": 184,
   "id": "6b6c4b33",
   "metadata": {},
   "outputs": [
    {
     "name": "stdout",
     "output_type": "stream",
     "text": [
      "-----------------------------------------------------------------------------------\n",
      "const       -88325.277230\n",
      "Visitors         0.193362\n",
      "weekends    180702.696033\n",
      "dtype: float64\n",
      "-----------------------------------------------------------------------------------\n",
      "\n",
      "\n",
      "                            OLS Regression Results                            \n",
      "==============================================================================\n",
      "Dep. Variable:             Views_show   R-squared:                       0.500\n",
      "Model:                            OLS   Adj. R-squared:                  0.487\n",
      "Method:                 Least Squares   F-statistic:                     38.55\n",
      "Date:                Wed, 23 Aug 2023   Prob (F-statistic):           2.51e-12\n",
      "Time:                        17:12:40   Log-Likelihood:                -1041.3\n",
      "No. Observations:                  80   AIC:                             2089.\n",
      "Df Residuals:                      77   BIC:                             2096.\n",
      "Df Model:                           2                                         \n",
      "Covariance Type:            nonrobust                                         \n",
      "==============================================================================\n",
      "                 coef    std err          t      P>|t|      [0.025      0.975]\n",
      "------------------------------------------------------------------------------\n",
      "const      -8.833e+04   1.01e+05     -0.875      0.384   -2.89e+05    1.13e+05\n",
      "Visitors       0.1934      0.061      3.160      0.002       0.071       0.315\n",
      "weekends    1.807e+05   3.15e+04      5.740      0.000    1.18e+05    2.43e+05\n",
      "==============================================================================\n",
      "Omnibus:                        1.302   Durbin-Watson:                   1.254\n",
      "Prob(Omnibus):                  0.521   Jarque-Bera (JB):                1.367\n",
      "Skew:                           0.270   Prob(JB):                        0.505\n",
      "Kurtosis:                       2.656   Cond. No.                     1.41e+07\n",
      "==============================================================================\n",
      "\n",
      "Notes:\n",
      "[1] Standard Errors assume that the covariance matrix of the errors is correctly specified.\n",
      "[2] The condition number is large, 1.41e+07. This might indicate that there are\n",
      "strong multicollinearity or other numerical problems.\n"
     ]
    }
   ],
   "source": [
    "X = inp[['Visitors','weekends']]\n",
    "y = inp['Views_show']\n",
    "\n",
    "X_train = sm.add_constant(X)\n",
    "lr_2 = sm.OLS(y,X_train).fit()\n",
    "\n",
    "print('-----------------------------------------------------------------------------------')\n",
    "print(lr_2.params)\n",
    "print('-----------------------------------------------------------------------------------\\n\\n')\n",
    "print(lr_2.summary())\n"
   ]
  },
  {
   "cell_type": "markdown",
   "id": "3c543522",
   "metadata": {},
   "source": [
    "### Running the 3rd model visitors,weekend,character_A"
   ]
  },
  {
   "cell_type": "code",
   "execution_count": 185,
   "id": "fc9728e2",
   "metadata": {},
   "outputs": [
    {
     "name": "stdout",
     "output_type": "stream",
     "text": [
      "-----------------------------------------------------------------------------------\n",
      "const          -47221.913254\n",
      "Visitors            0.148026\n",
      "weekends       181214.948506\n",
      "Character_A     95424.646323\n",
      "dtype: float64\n",
      "-----------------------------------------------------------------------------------\n",
      "\n",
      "\n",
      "                            OLS Regression Results                            \n",
      "==============================================================================\n",
      "Dep. Variable:             Views_show   R-squared:                       0.586\n",
      "Model:                            OLS   Adj. R-squared:                  0.570\n",
      "Method:                 Least Squares   F-statistic:                     35.84\n",
      "Date:                Wed, 23 Aug 2023   Prob (F-statistic):           1.53e-14\n",
      "Time:                        17:12:40   Log-Likelihood:                -1033.8\n",
      "No. Observations:                  80   AIC:                             2076.\n",
      "Df Residuals:                      76   BIC:                             2085.\n",
      "Df Model:                           3                                         \n",
      "Covariance Type:            nonrobust                                         \n",
      "===============================================================================\n",
      "                  coef    std err          t      P>|t|      [0.025      0.975]\n",
      "-------------------------------------------------------------------------------\n",
      "const       -4.722e+04   9.31e+04     -0.507      0.613   -2.33e+05    1.38e+05\n",
      "Visitors        0.1480      0.057      2.586      0.012       0.034       0.262\n",
      "weekends     1.812e+05   2.89e+04      6.281      0.000    1.24e+05    2.39e+05\n",
      "Character_A  9.542e+04   2.41e+04      3.963      0.000    4.75e+04    1.43e+05\n",
      "==============================================================================\n",
      "Omnibus:                        0.908   Durbin-Watson:                   1.600\n",
      "Prob(Omnibus):                  0.635   Jarque-Bera (JB):                0.876\n",
      "Skew:                          -0.009   Prob(JB):                        0.645\n",
      "Kurtosis:                       2.488   Cond. No.                     1.42e+07\n",
      "==============================================================================\n",
      "\n",
      "Notes:\n",
      "[1] Standard Errors assume that the covariance matrix of the errors is correctly specified.\n",
      "[2] The condition number is large, 1.42e+07. This might indicate that there are\n",
      "strong multicollinearity or other numerical problems.\n"
     ]
    }
   ],
   "source": [
    "X = inp[['Visitors','weekends','Character_A']]\n",
    "y = inp['Views_show']\n",
    "\n",
    "X_train = sm.add_constant(X)\n",
    "lr3 = sm.OLS(y,X_train).fit()\n",
    "\n",
    "print('-----------------------------------------------------------------------------------')\n",
    "print(lr3.params)\n",
    "print('-----------------------------------------------------------------------------------\\n\\n')\n",
    "print(lr3.summary())\n"
   ]
  },
  {
   "cell_type": "code",
   "execution_count": 186,
   "id": "ed11485d",
   "metadata": {},
   "outputs": [
    {
     "data": {
      "text/html": [
       "<div>\n",
       "<style scoped>\n",
       "    .dataframe tbody tr th:only-of-type {\n",
       "        vertical-align: middle;\n",
       "    }\n",
       "\n",
       "    .dataframe tbody tr th {\n",
       "        vertical-align: top;\n",
       "    }\n",
       "\n",
       "    .dataframe thead th {\n",
       "        text-align: right;\n",
       "    }\n",
       "</style>\n",
       "<table border=\"1\" class=\"dataframe\">\n",
       "  <thead>\n",
       "    <tr style=\"text-align: right;\">\n",
       "      <th></th>\n",
       "      <th>Date</th>\n",
       "      <th>Views_show</th>\n",
       "      <th>Visitors</th>\n",
       "      <th>Views_platform</th>\n",
       "      <th>Ad_impression</th>\n",
       "      <th>Cricket_match_india</th>\n",
       "      <th>Character_A</th>\n",
       "      <th>Day</th>\n",
       "      <th>weekday</th>\n",
       "      <th>weekends</th>\n",
       "      <th>Lag_Views</th>\n",
       "    </tr>\n",
       "  </thead>\n",
       "  <tbody>\n",
       "    <tr>\n",
       "      <th>0</th>\n",
       "      <td>2017-03-01</td>\n",
       "      <td>183738</td>\n",
       "      <td>1260228</td>\n",
       "      <td>1706478</td>\n",
       "      <td>1060860448</td>\n",
       "      <td>0</td>\n",
       "      <td>0</td>\n",
       "      <td>1</td>\n",
       "      <td>4</td>\n",
       "      <td>0</td>\n",
       "      <td>0</td>\n",
       "    </tr>\n",
       "    <tr>\n",
       "      <th>1</th>\n",
       "      <td>2017-03-02</td>\n",
       "      <td>193763</td>\n",
       "      <td>1270561</td>\n",
       "      <td>1690727</td>\n",
       "      <td>1031846645</td>\n",
       "      <td>0</td>\n",
       "      <td>0</td>\n",
       "      <td>2</td>\n",
       "      <td>5</td>\n",
       "      <td>0</td>\n",
       "      <td>183738</td>\n",
       "    </tr>\n",
       "    <tr>\n",
       "      <th>2</th>\n",
       "      <td>2017-03-03</td>\n",
       "      <td>210479</td>\n",
       "      <td>1248183</td>\n",
       "      <td>1726157</td>\n",
       "      <td>1010867575</td>\n",
       "      <td>0</td>\n",
       "      <td>0</td>\n",
       "      <td>3</td>\n",
       "      <td>6</td>\n",
       "      <td>0</td>\n",
       "      <td>193763</td>\n",
       "    </tr>\n",
       "    <tr>\n",
       "      <th>3</th>\n",
       "      <td>2017-03-04</td>\n",
       "      <td>240061</td>\n",
       "      <td>1492913</td>\n",
       "      <td>1855353</td>\n",
       "      <td>1079194579</td>\n",
       "      <td>1</td>\n",
       "      <td>0</td>\n",
       "      <td>4</td>\n",
       "      <td>7</td>\n",
       "      <td>1</td>\n",
       "      <td>210479</td>\n",
       "    </tr>\n",
       "    <tr>\n",
       "      <th>4</th>\n",
       "      <td>2017-03-05</td>\n",
       "      <td>446314</td>\n",
       "      <td>1594712</td>\n",
       "      <td>2041418</td>\n",
       "      <td>1357736987</td>\n",
       "      <td>0</td>\n",
       "      <td>0</td>\n",
       "      <td>5</td>\n",
       "      <td>1</td>\n",
       "      <td>1</td>\n",
       "      <td>240061</td>\n",
       "    </tr>\n",
       "  </tbody>\n",
       "</table>\n",
       "</div>"
      ],
      "text/plain": [
       "        Date  Views_show  Visitors  Views_platform  Ad_impression  \\\n",
       "0 2017-03-01      183738   1260228         1706478     1060860448   \n",
       "1 2017-03-02      193763   1270561         1690727     1031846645   \n",
       "2 2017-03-03      210479   1248183         1726157     1010867575   \n",
       "3 2017-03-04      240061   1492913         1855353     1079194579   \n",
       "4 2017-03-05      446314   1594712         2041418     1357736987   \n",
       "\n",
       "   Cricket_match_india  Character_A  Day  weekday  weekends  Lag_Views  \n",
       "0                    0            0    1        4         0          0  \n",
       "1                    0            0    2        5         0     183738  \n",
       "2                    0            0    3        6         0     193763  \n",
       "3                    1            0    4        7         1     210479  \n",
       "4                    0            0    5        1         1     240061  "
      ]
     },
     "execution_count": 186,
     "metadata": {},
     "output_type": "execute_result"
    }
   ],
   "source": [
    "## create a lag_variables which takes the above value in the columns\n",
    "\n",
    "inp['Lag_Views'] = np.roll(inp['Views_show'],1)\n",
    "inp.replace(108961,0,inplace=True)\n",
    "inp.head()"
   ]
  },
  {
   "cell_type": "markdown",
   "id": "340e01c4",
   "metadata": {},
   "source": [
    "### Running the 4th model  visitors, weekend, character_A, Lag_views"
   ]
  },
  {
   "cell_type": "code",
   "execution_count": 187,
   "id": "cd58d93b",
   "metadata": {},
   "outputs": [
    {
     "name": "stdout",
     "output_type": "stream",
     "text": [
      "-----------------------------------------------------------------------------------\n",
      "const          -24005.317921\n",
      "Visitors            0.058859\n",
      "weekends       231277.606134\n",
      "Character_A     56704.442288\n",
      "Lag_Views           0.442485\n",
      "dtype: float64\n",
      "-----------------------------------------------------------------------------------\n",
      "\n",
      "\n",
      "                            OLS Regression Results                            \n",
      "==============================================================================\n",
      "Dep. Variable:             Views_show   R-squared:                       0.737\n",
      "Model:                            OLS   Adj. R-squared:                  0.723\n",
      "Method:                 Least Squares   F-statistic:                     52.66\n",
      "Date:                Wed, 23 Aug 2023   Prob (F-statistic):           4.78e-21\n",
      "Time:                        17:12:40   Log-Likelihood:                -1016.6\n",
      "No. Observations:                  80   AIC:                             2043.\n",
      "Df Residuals:                      75   BIC:                             2055.\n",
      "Df Model:                           4                                         \n",
      "Covariance Type:            nonrobust                                         \n",
      "===============================================================================\n",
      "                  coef    std err          t      P>|t|      [0.025      0.975]\n",
      "-------------------------------------------------------------------------------\n",
      "const       -2.401e+04   7.57e+04     -0.317      0.752   -1.75e+05    1.27e+05\n",
      "Visitors        0.0589      0.048      1.222      0.225      -0.037       0.155\n",
      "weekends     2.313e+05   2.45e+04      9.452      0.000    1.83e+05     2.8e+05\n",
      "Character_A   5.67e+04   2.05e+04      2.766      0.007    1.59e+04    9.75e+04\n",
      "Lag_Views       0.4425      0.066      6.719      0.000       0.311       0.574\n",
      "==============================================================================\n",
      "Omnibus:                        1.458   Durbin-Watson:                   2.593\n",
      "Prob(Omnibus):                  0.482   Jarque-Bera (JB):                0.863\n",
      "Skew:                          -0.186   Prob(JB):                        0.649\n",
      "Kurtosis:                       3.347   Cond. No.                     1.44e+07\n",
      "==============================================================================\n",
      "\n",
      "Notes:\n",
      "[1] Standard Errors assume that the covariance matrix of the errors is correctly specified.\n",
      "[2] The condition number is large, 1.44e+07. This might indicate that there are\n",
      "strong multicollinearity or other numerical problems.\n"
     ]
    }
   ],
   "source": [
    "X = inp[['Visitors', 'weekends', 'Character_A', 'Lag_Views']]\n",
    "y = inp['Views_show']\n",
    "\n",
    "X_train = sm.add_constant(X)\n",
    "lr4 = sm.OLS(y,X_train).fit()\n",
    "\n",
    "print('-----------------------------------------------------------------------------------')\n",
    "print(lr4.params)\n",
    "print('-----------------------------------------------------------------------------------\\n\\n')\n",
    "print(lr4.summary())\n",
    "\n"
   ]
  },
  {
   "cell_type": "markdown",
   "id": "d5fb819b",
   "metadata": {},
   "source": [
    "### Running the 5Th model weekends,Views_platform,Character_A"
   ]
  },
  {
   "cell_type": "code",
   "execution_count": 188,
   "id": "0050afb8",
   "metadata": {},
   "outputs": [
    {
     "name": "stdout",
     "output_type": "stream",
     "text": [
      "-----------------------------------------------------------------------------------\n",
      "const            -111789.380936\n",
      "weekends          181116.068470\n",
      "Views_platform         0.145238\n",
      "Character_A        73989.901152\n",
      "dtype: float64\n",
      "-----------------------------------------------------------------------------------\n",
      "\n",
      "\n",
      "                            OLS Regression Results                            \n",
      "==============================================================================\n",
      "Dep. Variable:             Views_show   R-squared:                       0.593\n",
      "Model:                            OLS   Adj. R-squared:                  0.577\n",
      "Method:                 Least Squares   F-statistic:                     36.96\n",
      "Date:                Wed, 23 Aug 2023   Prob (F-statistic):           7.72e-15\n",
      "Time:                        17:12:40   Log-Likelihood:                -1034.1\n",
      "No. Observations:                  80   AIC:                             2076.\n",
      "Df Residuals:                      76   BIC:                             2086.\n",
      "Df Model:                           3                                         \n",
      "Covariance Type:            nonrobust                                         \n",
      "==================================================================================\n",
      "                     coef    std err          t      P>|t|      [0.025      0.975]\n",
      "----------------------------------------------------------------------------------\n",
      "const          -1.118e+05   1.02e+05     -1.095      0.277   -3.15e+05    9.15e+04\n",
      "weekends        1.811e+05   2.84e+04      6.367      0.000    1.24e+05    2.38e+05\n",
      "Views_platform     0.1452      0.049      2.968      0.004       0.048       0.243\n",
      "Character_A     7.399e+04   2.66e+04      2.781      0.007     2.1e+04    1.27e+05\n",
      "==============================================================================\n",
      "Omnibus:                        2.623   Durbin-Watson:                   1.485\n",
      "Prob(Omnibus):                  0.269   Jarque-Bera (JB):                1.626\n",
      "Skew:                          -0.043   Prob(JB):                        0.443\n",
      "Kurtosis:                       2.307   Cond. No.                     2.03e+07\n",
      "==============================================================================\n",
      "\n",
      "Notes:\n",
      "[1] Standard Errors assume that the covariance matrix of the errors is correctly specified.\n",
      "[2] The condition number is large, 2.03e+07. This might indicate that there are\n",
      "strong multicollinearity or other numerical problems.\n"
     ]
    }
   ],
   "source": [
    "X = inp[['weekends','Views_platform','Character_A']]\n",
    "y = inp['Views_show']\n",
    "\n",
    "X_train = sm.add_constant(X)\n",
    "lr5 = sm.OLS(y,X_train).fit()\n",
    "\n",
    "print('-----------------------------------------------------------------------------------')\n",
    "print(lr5.params)\n",
    "print('-----------------------------------------------------------------------------------\\n\\n')\n",
    "print(lr5.summary())\n",
    "\n"
   ]
  },
  {
   "cell_type": "markdown",
   "id": "6a5e1d36",
   "metadata": {},
   "source": [
    "### Running the 6th model weekends,Visitors,Character_A"
   ]
  },
  {
   "cell_type": "code",
   "execution_count": 189,
   "id": "2404bb6b",
   "metadata": {},
   "outputs": [
    {
     "name": "stdout",
     "output_type": "stream",
     "text": [
      "-----------------------------------------------------------------------------------\n",
      "const          -41861.564831\n",
      "weekends       184024.857824\n",
      "Visitors            0.143076\n",
      "Character_A     97865.587948\n",
      "dtype: float64\n",
      "-----------------------------------------------------------------------------------\n",
      "\n",
      "\n",
      "                            OLS Regression Results                            \n",
      "==============================================================================\n",
      "Dep. Variable:             Views_show   R-squared:                       0.579\n",
      "Model:                            OLS   Adj. R-squared:                  0.563\n",
      "Method:                 Least Squares   F-statistic:                     34.90\n",
      "Date:                Wed, 23 Aug 2023   Prob (F-statistic):           2.75e-14\n",
      "Time:                        17:12:40   Log-Likelihood:                -1035.5\n",
      "No. Observations:                  80   AIC:                             2079.\n",
      "Df Residuals:                      76   BIC:                             2089.\n",
      "Df Model:                           3                                         \n",
      "Covariance Type:            nonrobust                                         \n",
      "===============================================================================\n",
      "                  coef    std err          t      P>|t|      [0.025      0.975]\n",
      "-------------------------------------------------------------------------------\n",
      "const       -4.186e+04   9.51e+04     -0.440      0.661   -2.31e+05    1.48e+05\n",
      "weekends      1.84e+05   2.95e+04      6.246      0.000    1.25e+05    2.43e+05\n",
      "Visitors        0.1431      0.058      2.448      0.017       0.027       0.259\n",
      "Character_A  9.787e+04   2.46e+04      3.979      0.000    4.89e+04    1.47e+05\n",
      "==============================================================================\n",
      "Omnibus:                        0.866   Durbin-Watson:                   1.568\n",
      "Prob(Omnibus):                  0.648   Jarque-Bera (JB):                0.889\n",
      "Skew:                          -0.090   Prob(JB):                        0.641\n",
      "Kurtosis:                       2.516   Cond. No.                     1.42e+07\n",
      "==============================================================================\n",
      "\n",
      "Notes:\n",
      "[1] Standard Errors assume that the covariance matrix of the errors is correctly specified.\n",
      "[2] The condition number is large, 1.42e+07. This might indicate that there are\n",
      "strong multicollinearity or other numerical problems.\n"
     ]
    }
   ],
   "source": [
    "X = inp[['weekends','Visitors','Character_A']]\n",
    "y = inp['Views_show']\n",
    "\n",
    "X_train = sm.add_constant(X)\n",
    "lr6 = sm.OLS(y,X_train).fit()\n",
    "\n",
    "print('-----------------------------------------------------------------------------------')\n",
    "print(lr6.params)\n",
    "print('-----------------------------------------------------------------------------------\\n\\n')\n",
    "print(lr6.summary())"
   ]
  },
  {
   "cell_type": "markdown",
   "id": "439c9afe",
   "metadata": {},
   "source": [
    "### Running the 7th model weekends,Visitors,Character_A,Ad_impression"
   ]
  },
  {
   "cell_type": "code",
   "execution_count": 190,
   "id": "34625bba",
   "metadata": {},
   "outputs": [
    {
     "name": "stdout",
     "output_type": "stream",
     "text": [
      "-----------------------------------------------------------------------------------\n",
      "const           -279322.692480\n",
      "weekends         151136.527424\n",
      "Visitors              0.008690\n",
      "Character_A      -27602.909926\n",
      "Ad_impression         0.000362\n",
      "dtype: float64\n",
      "-----------------------------------------------------------------------------------\n",
      "\n",
      "\n",
      "                            OLS Regression Results                            \n",
      "==============================================================================\n",
      "Dep. Variable:             Views_show   R-squared:                       0.793\n",
      "Model:                            OLS   Adj. R-squared:                  0.782\n",
      "Method:                 Least Squares   F-statistic:                     71.89\n",
      "Date:                Wed, 23 Aug 2023   Prob (F-statistic):           6.70e-25\n",
      "Time:                        17:12:40   Log-Likelihood:                -1007.1\n",
      "No. Observations:                  80   AIC:                             2024.\n",
      "Df Residuals:                      75   BIC:                             2036.\n",
      "Df Model:                           4                                         \n",
      "Covariance Type:            nonrobust                                         \n",
      "=================================================================================\n",
      "                    coef    std err          t      P>|t|      [0.025      0.975]\n",
      "---------------------------------------------------------------------------------\n",
      "const         -2.793e+05   7.23e+04     -3.861      0.000   -4.23e+05   -1.35e+05\n",
      "weekends       1.511e+05   2.11e+04      7.151      0.000    1.09e+05    1.93e+05\n",
      "Visitors          0.0087      0.044      0.197      0.844      -0.079       0.096\n",
      "Character_A    -2.76e+04   2.25e+04     -1.229      0.223   -7.24e+04    1.71e+04\n",
      "Ad_impression     0.0004   4.11e-05      8.803      0.000       0.000       0.000\n",
      "==============================================================================\n",
      "Omnibus:                        2.986   Durbin-Watson:                   1.123\n",
      "Prob(Omnibus):                  0.225   Jarque-Bera (JB):                2.386\n",
      "Skew:                           0.240   Prob(JB):                        0.303\n",
      "Kurtosis:                       3.697   Cond. No.                     1.32e+10\n",
      "==============================================================================\n",
      "\n",
      "Notes:\n",
      "[1] Standard Errors assume that the covariance matrix of the errors is correctly specified.\n",
      "[2] The condition number is large, 1.32e+10. This might indicate that there are\n",
      "strong multicollinearity or other numerical problems.\n"
     ]
    }
   ],
   "source": [
    "X = inp[['weekends','Visitors','Character_A','Ad_impression']]\n",
    "y = inp['Views_show']\n",
    "\n",
    "X_train = sm.add_constant(X)\n",
    "lr7 = sm.OLS(y,X_train).fit()\n",
    "\n",
    "print('-----------------------------------------------------------------------------------')\n",
    "print(lr7.params)\n",
    "print('-----------------------------------------------------------------------------------\\n\\n')\n",
    "print(lr7.summary())"
   ]
  },
  {
   "cell_type": "markdown",
   "id": "17092608",
   "metadata": {},
   "source": [
    "### Running the 8th model weekends, Character_A, Ad_impression"
   ]
  },
  {
   "cell_type": "code",
   "execution_count": 191,
   "id": "e3ac7c4f",
   "metadata": {},
   "outputs": [
    {
     "name": "stdout",
     "output_type": "stream",
     "text": [
      "-----------------------------------------------------------------------------------\n",
      "const           -268914.953458\n",
      "weekends         152661.558712\n",
      "Character_A      -27936.635052\n",
      "Ad_impression         0.000365\n",
      "dtype: float64\n",
      "-----------------------------------------------------------------------------------\n",
      "\n",
      "\n",
      "                            OLS Regression Results                            \n",
      "==============================================================================\n",
      "Dep. Variable:             Views_show   R-squared:                       0.793\n",
      "Model:                            OLS   Adj. R-squared:                  0.785\n",
      "Method:                 Least Squares   F-statistic:                     97.07\n",
      "Date:                Wed, 23 Aug 2023   Prob (F-statistic):           6.34e-26\n",
      "Time:                        17:12:41   Log-Likelihood:                -1007.1\n",
      "No. Observations:                  80   AIC:                             2022.\n",
      "Df Residuals:                      76   BIC:                             2032.\n",
      "Df Model:                           3                                         \n",
      "Covariance Type:            nonrobust                                         \n",
      "=================================================================================\n",
      "                    coef    std err          t      P>|t|      [0.025      0.975]\n",
      "---------------------------------------------------------------------------------\n",
      "const         -2.689e+05   4.92e+04     -5.461      0.000   -3.67e+05   -1.71e+05\n",
      "weekends       1.527e+05   1.95e+04      7.810      0.000    1.14e+05    1.92e+05\n",
      "Character_A   -2.794e+04   2.23e+04     -1.255      0.213   -7.23e+04    1.64e+04\n",
      "Ad_impression     0.0004   3.83e-05      9.520      0.000       0.000       0.000\n",
      "==============================================================================\n",
      "Omnibus:                        2.982   Durbin-Watson:                   1.126\n",
      "Prob(Omnibus):                  0.225   Jarque-Bera (JB):                2.404\n",
      "Skew:                           0.231   Prob(JB):                        0.301\n",
      "Kurtosis:                       3.713   Cond. No.                     9.26e+09\n",
      "==============================================================================\n",
      "\n",
      "Notes:\n",
      "[1] Standard Errors assume that the covariance matrix of the errors is correctly specified.\n",
      "[2] The condition number is large, 9.26e+09. This might indicate that there are\n",
      "strong multicollinearity or other numerical problems.\n"
     ]
    }
   ],
   "source": [
    "X = inp[['weekends','Character_A','Ad_impression']]\n",
    "y = inp['Views_show']\n",
    "\n",
    "X_train = sm.add_constant(X)\n",
    "lr8 = sm.OLS(y,X_train).fit()\n",
    "\n",
    "print('-----------------------------------------------------------------------------------')\n",
    "print(lr8.params)\n",
    "print('-----------------------------------------------------------------------------------\\n\\n')\n",
    "print(lr8.summary())\n"
   ]
  },
  {
   "cell_type": "code",
   "execution_count": 192,
   "id": "69e48de5",
   "metadata": {},
   "outputs": [],
   "source": [
    "## ad_impression should be in million we are seeing in the how many lakh views \n",
    "\n",
    "inp['Ad_impression_Million'] = inp['Ad_impression']/1000000"
   ]
  },
  {
   "cell_type": "markdown",
   "id": "21da7cff",
   "metadata": {},
   "source": [
    "### Running the 9th model weekends, Character_A , Ad_impression_Million, Cricket_match_india"
   ]
  },
  {
   "cell_type": "code",
   "execution_count": 193,
   "id": "ebe0a4f6",
   "metadata": {},
   "outputs": [
    {
     "name": "stdout",
     "output_type": "stream",
     "text": [
      "-----------------------------------------------------------------------------------\n",
      "const                   -263201.705230\n",
      "weekends                 154817.694624\n",
      "Character_A              -32086.940577\n",
      "Ad_impression_Million       363.290944\n",
      "Cricket_match_india      -28013.053638\n",
      "dtype: float64\n",
      "-----------------------------------------------------------------------------------\n",
      "\n",
      "\n",
      "                            OLS Regression Results                            \n",
      "==============================================================================\n",
      "Dep. Variable:             Views_show   R-squared:                       0.796\n",
      "Model:                            OLS   Adj. R-squared:                  0.785\n",
      "Method:                 Least Squares   F-statistic:                     73.03\n",
      "Date:                Wed, 23 Aug 2023   Prob (F-statistic):           4.21e-25\n",
      "Time:                        17:12:41   Log-Likelihood:                -1006.6\n",
      "No. Observations:                  80   AIC:                             2023.\n",
      "Df Residuals:                      75   BIC:                             2035.\n",
      "Df Model:                           4                                         \n",
      "Covariance Type:            nonrobust                                         \n",
      "=========================================================================================\n",
      "                            coef    std err          t      P>|t|      [0.025      0.975]\n",
      "-----------------------------------------------------------------------------------------\n",
      "const                 -2.632e+05   4.96e+04     -5.308      0.000   -3.62e+05   -1.64e+05\n",
      "weekends               1.548e+05   1.97e+04      7.870      0.000    1.16e+05    1.94e+05\n",
      "Character_A           -3.209e+04   2.27e+04     -1.417      0.161   -7.72e+04     1.3e+04\n",
      "Ad_impression_Million   363.2909     38.332      9.477      0.000     286.929     439.653\n",
      "Cricket_match_india   -2.801e+04   2.83e+04     -0.991      0.325   -8.43e+04    2.83e+04\n",
      "==============================================================================\n",
      "Omnibus:                        3.866   Durbin-Watson:                   1.120\n",
      "Prob(Omnibus):                  0.145   Jarque-Bera (JB):                3.266\n",
      "Skew:                           0.323   Prob(JB):                        0.195\n",
      "Kurtosis:                       3.749   Cond. No.                     9.32e+03\n",
      "==============================================================================\n",
      "\n",
      "Notes:\n",
      "[1] Standard Errors assume that the covariance matrix of the errors is correctly specified.\n",
      "[2] The condition number is large, 9.32e+03. This might indicate that there are\n",
      "strong multicollinearity or other numerical problems.\n"
     ]
    }
   ],
   "source": [
    "X = inp[['weekends','Character_A','Ad_impression_Million','Cricket_match_india']]\n",
    "y = inp['Views_show']\n",
    "\n",
    "X_train = sm.add_constant(X)\n",
    "lr9 = sm.OLS(y,X_train).fit()\n",
    "\n",
    "print('-----------------------------------------------------------------------------------')\n",
    "print(lr9.params)\n",
    "print('-----------------------------------------------------------------------------------\\n\\n')\n",
    "print(lr9.summary())\n"
   ]
  },
  {
   "cell_type": "markdown",
   "id": "02e141f3",
   "metadata": {},
   "source": [
    " ### Running the 10th model  weekends, Character_A, Ad_impression_million"
   ]
  },
  {
   "cell_type": "code",
   "execution_count": 194,
   "id": "39cb3a67",
   "metadata": {},
   "outputs": [
    {
     "name": "stdout",
     "output_type": "stream",
     "text": [
      "-----------------------------------------------------------------------------------\n",
      "const                   -268914.961122\n",
      "weekends                 152661.557011\n",
      "Character_A              -27936.634906\n",
      "Ad_impression_Million       364.641858\n",
      "dtype: float64\n",
      "-----------------------------------------------------------------------------------\n",
      "\n",
      "\n",
      "                            OLS Regression Results                            \n",
      "==============================================================================\n",
      "Dep. Variable:             Views_show   R-squared:                       0.793\n",
      "Model:                            OLS   Adj. R-squared:                  0.785\n",
      "Method:                 Least Squares   F-statistic:                     97.07\n",
      "Date:                Wed, 23 Aug 2023   Prob (F-statistic):           6.34e-26\n",
      "Time:                        17:12:41   Log-Likelihood:                -1007.1\n",
      "No. Observations:                  80   AIC:                             2022.\n",
      "Df Residuals:                      76   BIC:                             2032.\n",
      "Df Model:                           3                                         \n",
      "Covariance Type:            nonrobust                                         \n",
      "=========================================================================================\n",
      "                            coef    std err          t      P>|t|      [0.025      0.975]\n",
      "-----------------------------------------------------------------------------------------\n",
      "const                 -2.689e+05   4.92e+04     -5.461      0.000   -3.67e+05   -1.71e+05\n",
      "weekends               1.527e+05   1.95e+04      7.810      0.000    1.14e+05    1.92e+05\n",
      "Character_A           -2.794e+04   2.23e+04     -1.255      0.213   -7.23e+04    1.64e+04\n",
      "Ad_impression_Million   364.6419     38.304      9.520      0.000     288.354     440.930\n",
      "==============================================================================\n",
      "Omnibus:                        2.982   Durbin-Watson:                   1.126\n",
      "Prob(Omnibus):                  0.225   Jarque-Bera (JB):                2.404\n",
      "Skew:                           0.231   Prob(JB):                        0.301\n",
      "Kurtosis:                       3.713   Cond. No.                     9.26e+03\n",
      "==============================================================================\n",
      "\n",
      "Notes:\n",
      "[1] Standard Errors assume that the covariance matrix of the errors is correctly specified.\n",
      "[2] The condition number is large, 9.26e+03. This might indicate that there are\n",
      "strong multicollinearity or other numerical problems.\n"
     ]
    }
   ],
   "source": [
    "X = inp[['weekends','Character_A','Ad_impression_Million']]\n",
    "y = inp['Views_show']\n",
    "\n",
    "X_train = sm.add_constant(X)\n",
    "lr10 = sm.OLS(y,X_train).fit()\n",
    "\n",
    "print('-----------------------------------------------------------------------------------')\n",
    "print(lr10.params)\n",
    "print('-----------------------------------------------------------------------------------\\n\\n')\n",
    "print(lr10.summary())\n"
   ]
  },
  {
   "cell_type": "code",
   "execution_count": 195,
   "id": "13adbdcf",
   "metadata": {},
   "outputs": [
    {
     "name": "stdout",
     "output_type": "stream",
     "text": [
      "Mean_Squared_Error: 5037895697.816751\n",
      "R2_Score: 0.7930281234371859\n"
     ]
    }
   ],
   "source": [
    "from sklearn.metrics import mean_squared_error,r2_score\n",
    "\n",
    "y_train_pred = lr10.predict(X_train)\n",
    "\n",
    "mse = mean_squared_error(y,y_train_pred)\n",
    "r2 = r2_score(y,y_train_pred)\n",
    "\n",
    "print('Mean_Squared_Error:',mse)\n",
    "print('R2_Score:',r2)"
   ]
  },
  {
   "cell_type": "code",
   "execution_count": 196,
   "id": "2603dbfc",
   "metadata": {},
   "outputs": [
    {
     "data": {
      "text/plain": [
       "Text(0, 0.5, 'Views')"
      ]
     },
     "execution_count": 196,
     "metadata": {},
     "output_type": "execute_result"
    },
    {
     "data": {
      "image/png": "[encoded data removed]",
      "text/plain": [
       "<Figure size 432x288 with 1 Axes>"
      ]
     },
     "metadata": {
      "needs_background": "light"
     },
     "output_type": "display_data"
    }
   ],
   "source": [
    "x = [i for i in range(1,81,1)]\n",
    "fig = plt.figure()\n",
    "p1, = plt.plot(x, inp['Views_show'],color='black',linewidth=2.5)\n",
    "p1, = plt.plot(x,y_train_pred,color='red',linewidth=2.5)\n",
    "fig.suptitle('Actual Vs Predicted',fontsize=20)\n",
    "plt.xlabel('Index',fontdict={'fontsize':10})\n",
    "plt.ylabel('Views',fontdict={'fontsize':10})"
   ]
  },
  {
   "cell_type": "markdown",
   "id": "90e306af",
   "metadata": {},
   "source": [
    "### Error Terms (actual - Pred values)"
   ]
  },
  {
   "cell_type": "code",
   "execution_count": 197,
   "id": "0c8b97d6",
   "metadata": {},
   "outputs": [
    {
     "data": {
      "text/plain": [
       "Text(0, 0.5, 'y - y_train_pred')"
      ]
     },
     "execution_count": 197,
     "metadata": {},
     "output_type": "execute_result"
    },
    {
     "data": {
      "image/png": "[encoded data removed]",
      "text/plain": [
       "<Figure size 432x288 with 1 Axes>"
      ]
     },
     "metadata": {
      "needs_background": "light"
     },
     "output_type": "display_data"
    }
   ],
   "source": [
    "error = inp['Views_show'] - y_train_pred\n",
    "\n",
    "x = [ i for i in range(1,81,1)]\n",
    "p1,= plt.plot(x,error,color='green',linewidth=2.5)\n",
    "plt.suptitle('Error Terms',fontsize=20)\n",
    "plt.xlabel('Index',fontsize=14)\n",
    "plt.ylabel('y - y_train_pred',fontsize=14)"
   ]
  }
 ],
 "metadata": {
  "kernelspec": {
   "display_name": "Python 3 (ipykernel)",
   "language": "python",
   "name": "python3"
  },
  "language_info": {
   "codemirror_mode": {
    "name": "ipython",
    "version": 3
   },
   "file_extension": ".py",
   "mimetype": "text/x-python",
   "name": "python",
   "nbconvert_exporter": "python",
   "pygments_lexer": "ipython3",
   "version": "3.9.7"
  }
 },
 "nbformat": 4,
 "nbformat_minor": 5
}
